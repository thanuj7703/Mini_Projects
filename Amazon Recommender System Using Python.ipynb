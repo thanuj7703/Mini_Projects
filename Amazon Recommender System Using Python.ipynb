{
 "cells": [
  {
   "cell_type": "code",
   "execution_count": 1,
   "id": "38198723",
   "metadata": {},
   "outputs": [],
   "source": [
    "import numpy as np\n",
    "import pandas as pd"
   ]
  },
  {
   "cell_type": "code",
   "execution_count": 3,
   "id": "7b163132",
   "metadata": {},
   "outputs": [],
   "source": [
    "data=pd.read_csv('amazon_reviews.csv')"
   ]
  },
  {
   "cell_type": "code",
   "execution_count": 4,
   "id": "be823f5b",
   "metadata": {},
   "outputs": [
    {
     "name": "stdout",
     "output_type": "stream",
     "text": [
      "    AKM1MP6P0OYPR  0132793040  5.0  1365811200\n",
      "0  A2CX7LUOHB2NDG  0321732944  5.0  1341100800\n",
      "1  A2NWSAGRHCP8N5  0439886341  1.0  1367193600\n",
      "2  A2WNBOD3WNDNKT  0439886341  3.0  1374451200\n",
      "3  A1GI0U4ZRJA8WN  0439886341  1.0  1334707200\n",
      "4  A1QGNMC6O1VW39  0511189877  5.0  1397433600\n"
     ]
    }
   ],
   "source": [
    "print(data.head())"
   ]
  },
  {
   "cell_type": "code",
   "execution_count": 5,
   "id": "9b638381",
   "metadata": {},
   "outputs": [],
   "source": [
    "data.columns=['user_id','product_id','ratings','timestamp']"
   ]
  },
  {
   "cell_type": "code",
   "execution_count": 6,
   "id": "5f672239",
   "metadata": {},
   "outputs": [],
   "source": [
    "df=data[:int(len(data)*.1)]"
   ]
  },
  {
   "cell_type": "code",
   "execution_count": 7,
   "id": "fa351bca",
   "metadata": {},
   "outputs": [],
   "source": [
    "counts = df['user_id'].value_counts()\n",
    "data = df[df['user_id'].isin(counts[counts >= 50].index)]\n",
    "data.groupby('product_id')['ratings'].mean().sort_values(ascending=False) \n",
    "final_ratings = data.pivot(index = 'user_id', columns ='product_id', values = 'ratings').fillna(0)\n",
    "\n",
    "num_of_ratings = np.count_nonzero(final_ratings)\n",
    "possible_ratings = final_ratings.shape[0] * final_ratings.shape[1]\n",
    "density = (num_of_ratings/possible_ratings)\n",
    "density *= 100\n",
    "final_ratings_T = final_ratings.transpose()\n",
    "\n",
    "grouped = data.groupby('product_id').agg({'user_id': 'count'}).reset_index()\n",
    "grouped.rename(columns = {'user_id': 'score'},inplace=True)\n",
    "training_data = grouped.sort_values(['score', 'product_id'], ascending = [0,1]) \n",
    "training_data['Rank'] = training_data['score'].rank(ascending=0, method='first') \n",
    "recommendations = training_data.head()"
   ]
  },
  {
   "cell_type": "code",
   "execution_count": 12,
   "id": "6e462d25",
   "metadata": {},
   "outputs": [
    {
     "name": "stdout",
     "output_type": "stream",
     "text": [
      "         user_id  product_id  score  Rank\n",
      "113           11  B00004SB92      6   1.0\n",
      "1099          11  B00008OE6I      5   2.0\n",
      "368           11  B00005AW1H      4   3.0\n",
      "612           11  B0000645C9      4   4.0\n",
      "976           11  B00007KDVI      4   5.0\n",
      "user_id       11          11     11  11.0\n"
     ]
    }
   ],
   "source": [
    "def recommend(id):\n",
    "    recommend_products = recommendations\n",
    "    recommend_products.loc['user_id']= id\n",
    "    column = recommend_products.columns.tolist()\n",
    "    column = column[-1:]+column[:-1]\n",
    "    recommend_products = recommend_products[column]\n",
    "    return recommend_products\n",
    "print(recommend(11))"
   ]
  },
  {
   "cell_type": "code",
   "execution_count": null,
   "id": "ef244b9c",
   "metadata": {},
   "outputs": [],
   "source": []
  }
 ],
 "metadata": {
  "kernelspec": {
   "display_name": "Python 3 (ipykernel)",
   "language": "python",
   "name": "python3"
  },
  "language_info": {
   "codemirror_mode": {
    "name": "ipython",
    "version": 3
   },
   "file_extension": ".py",
   "mimetype": "text/x-python",
   "name": "python",
   "nbconvert_exporter": "python",
   "pygments_lexer": "ipython3",
   "version": "3.9.12"
  }
 },
 "nbformat": 4,
 "nbformat_minor": 5
}
